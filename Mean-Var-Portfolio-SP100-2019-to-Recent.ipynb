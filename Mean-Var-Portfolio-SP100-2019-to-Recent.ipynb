{
 "cells": [
  {
   "cell_type": "code",
   "execution_count": 1,
   "metadata": {},
   "outputs": [],
   "source": [
    "import ffn\n",
    "import pandas as pd\n",
    "import numpy as np\n",
    "import time\n",
    "import matplotlib.pyplot as plt"
   ]
  },
  {
   "cell_type": "code",
   "execution_count": 2,
   "metadata": {},
   "outputs": [],
   "source": [
    "#getting a list of S&P500 stocks from wikidpedia\n",
    "table=pd.read_html('https://en.wikipedia.org/wiki/S%26P_100')\n",
    "df=table[2]\n",
    "df.to_csv(\"S&P100-Info.csv\")"
   ]
  },
  {
   "cell_type": "code",
   "execution_count": 3,
   "metadata": {},
   "outputs": [
    {
     "data": {
      "text/html": [
       "<div>\n",
       "<style scoped>\n",
       "    .dataframe tbody tr th:only-of-type {\n",
       "        vertical-align: middle;\n",
       "    }\n",
       "\n",
       "    .dataframe tbody tr th {\n",
       "        vertical-align: top;\n",
       "    }\n",
       "\n",
       "    .dataframe thead th {\n",
       "        text-align: right;\n",
       "    }\n",
       "</style>\n",
       "<table border=\"1\" class=\"dataframe\">\n",
       "  <thead>\n",
       "    <tr style=\"text-align: right;\">\n",
       "      <th></th>\n",
       "      <th>Symbol</th>\n",
       "      <th>Name</th>\n",
       "      <th>Sector</th>\n",
       "    </tr>\n",
       "  </thead>\n",
       "  <tbody>\n",
       "    <tr>\n",
       "      <th>0</th>\n",
       "      <td>AAPL</td>\n",
       "      <td>Apple Inc.</td>\n",
       "      <td>Information Technology</td>\n",
       "    </tr>\n",
       "    <tr>\n",
       "      <th>1</th>\n",
       "      <td>ABBV</td>\n",
       "      <td>AbbVie Inc.</td>\n",
       "      <td>Health Care</td>\n",
       "    </tr>\n",
       "    <tr>\n",
       "      <th>2</th>\n",
       "      <td>ABT</td>\n",
       "      <td>Abbott Laboratories</td>\n",
       "      <td>Health Care</td>\n",
       "    </tr>\n",
       "    <tr>\n",
       "      <th>3</th>\n",
       "      <td>ACN</td>\n",
       "      <td>Accenture</td>\n",
       "      <td>Information Technology</td>\n",
       "    </tr>\n",
       "    <tr>\n",
       "      <th>4</th>\n",
       "      <td>ADBE</td>\n",
       "      <td>Adobe Inc.</td>\n",
       "      <td>Information Technology</td>\n",
       "    </tr>\n",
       "  </tbody>\n",
       "</table>\n",
       "</div>"
      ],
      "text/plain": [
       "  Symbol                 Name                  Sector\n",
       "0   AAPL           Apple Inc.  Information Technology\n",
       "1   ABBV          AbbVie Inc.             Health Care\n",
       "2    ABT  Abbott Laboratories             Health Care\n",
       "3    ACN            Accenture  Information Technology\n",
       "4   ADBE           Adobe Inc.  Information Technology"
      ]
     },
     "execution_count": 3,
     "metadata": {},
     "output_type": "execute_result"
    }
   ],
   "source": [
    "df.head()"
   ]
  },
  {
   "cell_type": "code",
   "execution_count": 4,
   "metadata": {},
   "outputs": [
    {
     "data": {
      "text/plain": [
       "0      AAPL\n",
       "1      ABBV\n",
       "2       ABT\n",
       "3       ACN\n",
       "4      ADBE\n",
       "       ... \n",
       "96       VZ\n",
       "97      WBA\n",
       "98      WFC\n",
       "99      WMT\n",
       "100     XOM\n",
       "Name: Symbol, Length: 101, dtype: object"
      ]
     },
     "execution_count": 4,
     "metadata": {},
     "output_type": "execute_result"
    }
   ],
   "source": [
    "stocks = df['Symbol'].apply(lambda x: str(x))\n",
    "stocks"
   ]
  },
  {
   "cell_type": "code",
   "execution_count": 5,
   "metadata": {},
   "outputs": [],
   "source": [
    "sp100 = []\n",
    "for item in stocks:\n",
    "    sp100.append(item)"
   ]
  },
  {
   "cell_type": "code",
   "execution_count": 6,
   "metadata": {},
   "outputs": [],
   "source": [
    "sp100.remove('BRK.B')"
   ]
  },
  {
   "cell_type": "code",
   "execution_count": 9,
   "metadata": {},
   "outputs": [],
   "source": [
    "for i in sp100:\n",
    "    try:\n",
    "        data = ffn.get(i, start = \"2020-01-01\")\n",
    "    except:\n",
    "        print('There is a problem with {}'.format(i))"
   ]
  },
  {
   "cell_type": "code",
   "execution_count": 7,
   "metadata": {},
   "outputs": [],
   "source": [
    "data = ffn.get(sp100, start = '2020-01-01')\n",
    "#the pull from these dates only went back to 2019"
   ]
  },
  {
   "cell_type": "code",
   "execution_count": 8,
   "metadata": {},
   "outputs": [
    {
     "data": {
      "text/html": [
       "<div>\n",
       "<style scoped>\n",
       "    .dataframe tbody tr th:only-of-type {\n",
       "        vertical-align: middle;\n",
       "    }\n",
       "\n",
       "    .dataframe tbody tr th {\n",
       "        vertical-align: top;\n",
       "    }\n",
       "\n",
       "    .dataframe thead th {\n",
       "        text-align: right;\n",
       "    }\n",
       "</style>\n",
       "<table border=\"1\" class=\"dataframe\">\n",
       "  <thead>\n",
       "    <tr style=\"text-align: right;\">\n",
       "      <th></th>\n",
       "      <th>aapl</th>\n",
       "      <th>abbv</th>\n",
       "      <th>abt</th>\n",
       "      <th>acn</th>\n",
       "      <th>adbe</th>\n",
       "      <th>aig</th>\n",
       "      <th>amgn</th>\n",
       "      <th>amt</th>\n",
       "      <th>amzn</th>\n",
       "      <th>avgo</th>\n",
       "      <th>...</th>\n",
       "      <th>unh</th>\n",
       "      <th>unp</th>\n",
       "      <th>ups</th>\n",
       "      <th>usb</th>\n",
       "      <th>v</th>\n",
       "      <th>vz</th>\n",
       "      <th>wba</th>\n",
       "      <th>wfc</th>\n",
       "      <th>wmt</th>\n",
       "      <th>xom</th>\n",
       "    </tr>\n",
       "    <tr>\n",
       "      <th>Date</th>\n",
       "      <th></th>\n",
       "      <th></th>\n",
       "      <th></th>\n",
       "      <th></th>\n",
       "      <th></th>\n",
       "      <th></th>\n",
       "      <th></th>\n",
       "      <th></th>\n",
       "      <th></th>\n",
       "      <th></th>\n",
       "      <th></th>\n",
       "      <th></th>\n",
       "      <th></th>\n",
       "      <th></th>\n",
       "      <th></th>\n",
       "      <th></th>\n",
       "      <th></th>\n",
       "      <th></th>\n",
       "      <th></th>\n",
       "      <th></th>\n",
       "      <th></th>\n",
       "    </tr>\n",
       "  </thead>\n",
       "  <tbody>\n",
       "    <tr>\n",
       "      <th>2020-01-02</th>\n",
       "      <td>74.333511</td>\n",
       "      <td>83.871666</td>\n",
       "      <td>85.256981</td>\n",
       "      <td>206.125336</td>\n",
       "      <td>334.429993</td>\n",
       "      <td>49.306526</td>\n",
       "      <td>231.917572</td>\n",
       "      <td>224.252289</td>\n",
       "      <td>1898.010010</td>\n",
       "      <td>305.916046</td>\n",
       "      <td>...</td>\n",
       "      <td>286.745422</td>\n",
       "      <td>177.634338</td>\n",
       "      <td>112.318962</td>\n",
       "      <td>56.202610</td>\n",
       "      <td>189.656342</td>\n",
       "      <td>57.256145</td>\n",
       "      <td>56.046688</td>\n",
       "      <td>51.509617</td>\n",
       "      <td>116.500679</td>\n",
       "      <td>64.560120</td>\n",
       "    </tr>\n",
       "    <tr>\n",
       "      <th>2020-01-03</th>\n",
       "      <td>73.610840</td>\n",
       "      <td>83.075554</td>\n",
       "      <td>84.217628</td>\n",
       "      <td>205.782028</td>\n",
       "      <td>331.809998</td>\n",
       "      <td>48.925495</td>\n",
       "      <td>230.343124</td>\n",
       "      <td>224.360229</td>\n",
       "      <td>1874.969971</td>\n",
       "      <td>298.135071</td>\n",
       "      <td>...</td>\n",
       "      <td>283.843658</td>\n",
       "      <td>176.377136</td>\n",
       "      <td>112.251648</td>\n",
       "      <td>55.547543</td>\n",
       "      <td>188.147980</td>\n",
       "      <td>56.646542</td>\n",
       "      <td>56.046688</td>\n",
       "      <td>51.193367</td>\n",
       "      <td>115.472214</td>\n",
       "      <td>64.041092</td>\n",
       "    </tr>\n",
       "    <tr>\n",
       "      <th>2020-01-06</th>\n",
       "      <td>74.197395</td>\n",
       "      <td>83.731171</td>\n",
       "      <td>84.658859</td>\n",
       "      <td>204.438293</td>\n",
       "      <td>333.709991</td>\n",
       "      <td>48.963596</td>\n",
       "      <td>232.110748</td>\n",
       "      <td>224.301346</td>\n",
       "      <td>1902.880005</td>\n",
       "      <td>297.689056</td>\n",
       "      <td>...</td>\n",
       "      <td>285.814087</td>\n",
       "      <td>174.866547</td>\n",
       "      <td>111.751549</td>\n",
       "      <td>54.788048</td>\n",
       "      <td>187.741135</td>\n",
       "      <td>56.524620</td>\n",
       "      <td>56.530506</td>\n",
       "      <td>50.886707</td>\n",
       "      <td>115.237137</td>\n",
       "      <td>64.532799</td>\n",
       "    </tr>\n",
       "    <tr>\n",
       "      <th>2020-01-07</th>\n",
       "      <td>73.848442</td>\n",
       "      <td>83.253510</td>\n",
       "      <td>84.188210</td>\n",
       "      <td>200.024429</td>\n",
       "      <td>333.390015</td>\n",
       "      <td>48.687344</td>\n",
       "      <td>229.927765</td>\n",
       "      <td>219.521866</td>\n",
       "      <td>1906.859985</td>\n",
       "      <td>296.664276</td>\n",
       "      <td>...</td>\n",
       "      <td>284.088776</td>\n",
       "      <td>173.541122</td>\n",
       "      <td>111.559204</td>\n",
       "      <td>54.265900</td>\n",
       "      <td>187.244965</td>\n",
       "      <td>55.896252</td>\n",
       "      <td>56.245903</td>\n",
       "      <td>50.465046</td>\n",
       "      <td>114.169487</td>\n",
       "      <td>64.004662</td>\n",
       "    </tr>\n",
       "    <tr>\n",
       "      <th>2020-01-08</th>\n",
       "      <td>75.036385</td>\n",
       "      <td>83.843567</td>\n",
       "      <td>84.531395</td>\n",
       "      <td>200.416824</td>\n",
       "      <td>337.869995</td>\n",
       "      <td>49.258900</td>\n",
       "      <td>230.101654</td>\n",
       "      <td>221.425797</td>\n",
       "      <td>1891.969971</td>\n",
       "      <td>292.963501</td>\n",
       "      <td>...</td>\n",
       "      <td>290.078552</td>\n",
       "      <td>175.441559</td>\n",
       "      <td>112.193939</td>\n",
       "      <td>54.151974</td>\n",
       "      <td>190.450211</td>\n",
       "      <td>55.999416</td>\n",
       "      <td>52.963551</td>\n",
       "      <td>50.618382</td>\n",
       "      <td>113.777695</td>\n",
       "      <td>63.039452</td>\n",
       "    </tr>\n",
       "  </tbody>\n",
       "</table>\n",
       "<p>5 rows × 100 columns</p>\n",
       "</div>"
      ],
      "text/plain": [
       "                 aapl       abbv        abt         acn        adbe  \\\n",
       "Date                                                                  \n",
       "2020-01-02  74.333511  83.871666  85.256981  206.125336  334.429993   \n",
       "2020-01-03  73.610840  83.075554  84.217628  205.782028  331.809998   \n",
       "2020-01-06  74.197395  83.731171  84.658859  204.438293  333.709991   \n",
       "2020-01-07  73.848442  83.253510  84.188210  200.024429  333.390015   \n",
       "2020-01-08  75.036385  83.843567  84.531395  200.416824  337.869995   \n",
       "\n",
       "                  aig        amgn         amt         amzn        avgo  ...  \\\n",
       "Date                                                                    ...   \n",
       "2020-01-02  49.306526  231.917572  224.252289  1898.010010  305.916046  ...   \n",
       "2020-01-03  48.925495  230.343124  224.360229  1874.969971  298.135071  ...   \n",
       "2020-01-06  48.963596  232.110748  224.301346  1902.880005  297.689056  ...   \n",
       "2020-01-07  48.687344  229.927765  219.521866  1906.859985  296.664276  ...   \n",
       "2020-01-08  49.258900  230.101654  221.425797  1891.969971  292.963501  ...   \n",
       "\n",
       "                   unh         unp         ups        usb           v  \\\n",
       "Date                                                                    \n",
       "2020-01-02  286.745422  177.634338  112.318962  56.202610  189.656342   \n",
       "2020-01-03  283.843658  176.377136  112.251648  55.547543  188.147980   \n",
       "2020-01-06  285.814087  174.866547  111.751549  54.788048  187.741135   \n",
       "2020-01-07  284.088776  173.541122  111.559204  54.265900  187.244965   \n",
       "2020-01-08  290.078552  175.441559  112.193939  54.151974  190.450211   \n",
       "\n",
       "                   vz        wba        wfc         wmt        xom  \n",
       "Date                                                                \n",
       "2020-01-02  57.256145  56.046688  51.509617  116.500679  64.560120  \n",
       "2020-01-03  56.646542  56.046688  51.193367  115.472214  64.041092  \n",
       "2020-01-06  56.524620  56.530506  50.886707  115.237137  64.532799  \n",
       "2020-01-07  55.896252  56.245903  50.465046  114.169487  64.004662  \n",
       "2020-01-08  55.999416  52.963551  50.618382  113.777695  63.039452  \n",
       "\n",
       "[5 rows x 100 columns]"
      ]
     },
     "execution_count": 8,
     "metadata": {},
     "output_type": "execute_result"
    }
   ],
   "source": [
    "data.head()"
   ]
  },
  {
   "cell_type": "code",
   "execution_count": 9,
   "metadata": {},
   "outputs": [],
   "source": [
    "data.to_csv(\"Stock Data.csv\")"
   ]
  },
  {
   "cell_type": "code",
   "execution_count": 12,
   "metadata": {},
   "outputs": [
    {
     "data": {
      "text/plain": [
       "(315, 100)"
      ]
     },
     "execution_count": 12,
     "metadata": {},
     "output_type": "execute_result"
    }
   ],
   "source": [
    "#calculate the daily and annual returns\n",
    "returns_daily = data.to_log_returns().dropna()\n",
    "returns_annual = returns_daily.mean()*250\n",
    "#return the length of the daily and annual returns dataframes\n",
    "len(returns_daily), len(returns_annual)"
   ]
  },
  {
   "cell_type": "code",
   "execution_count": 16,
   "metadata": {},
   "outputs": [
    {
     "data": {
      "text/plain": [
       "tsla    1.659382\n",
       "nvda    0.665173\n",
       "pypl    0.639596\n",
       "fdx     0.499260\n",
       "amzn    0.419428\n",
       "          ...   \n",
       "spg    -0.130906\n",
       "cop    -0.131922\n",
       "rtx    -0.140825\n",
       "ba     -0.195366\n",
       "wfc    -0.208682\n",
       "Length: 100, dtype: float64"
      ]
     },
     "execution_count": 16,
     "metadata": {},
     "output_type": "execute_result"
    }
   ],
   "source": [
    "sorted = returns_annual.sort_values(ascending=False)\n",
    "sorted"
   ]
  },
  {
   "cell_type": "code",
   "execution_count": null,
   "metadata": {},
   "outputs": [],
   "source": [
    "#get the daily and annual covariances\n",
    "cov_daily = returns_daily.cov()\n",
    "cov_annual = cov_daily*250"
   ]
  },
  {
   "cell_type": "code",
   "execution_count": null,
   "metadata": {},
   "outputs": [],
   "source": [
    "# empty lists to store returns, volatility and weights of imiginary portfolios\n",
    "port_returns = []\n",
    "port_volatility = []\n",
    "sharpe_ratio = []\n",
    "stock_weights = []"
   ]
  },
  {
   "cell_type": "code",
   "execution_count": null,
   "metadata": {},
   "outputs": [],
   "source": [
    "# set the number of combinations for imaginary portfolios\n",
    "num_assets = len(sp100)\n",
    "num_portfolios = 50000"
   ]
  },
  {
   "cell_type": "code",
   "execution_count": null,
   "metadata": {},
   "outputs": [],
   "source": [
    "#set random seed for reproduction's sake\n",
    "np.random.seed(42)"
   ]
  },
  {
   "cell_type": "code",
   "execution_count": null,
   "metadata": {},
   "outputs": [],
   "source": [
    "# populate the empty lists with each portfolios returns,risk and weights\n",
    "for single_portfolio in range(num_portfolios):\n",
    "    weights = np.random.random(num_assets)\n",
    "    weights /= np.sum(weights)\n",
    "    returns = np.dot(weights, returns_annual)\n",
    "    volatility = np.sqrt(np.dot(weights.T, np.dot(cov_annual, weights)))\n",
    "    sharpe = returns / volatility\n",
    "    sharpe_ratio.append(sharpe)\n",
    "    port_returns.append(returns)\n",
    "    port_volatility.append(volatility)\n",
    "    stock_weights.append(weights)"
   ]
  },
  {
   "cell_type": "code",
   "execution_count": null,
   "metadata": {},
   "outputs": [],
   "source": [
    "# a dictionary for Returns and Risk values of each portfolio\n",
    "portfolio = {'Returns': port_returns,\n",
    "             'Volatility': port_volatility,\n",
    "             'Sharpe Ratio': sharpe_ratio}"
   ]
  },
  {
   "cell_type": "code",
   "execution_count": null,
   "metadata": {},
   "outputs": [],
   "source": [
    "# extend original dictionary to accomodate each ticker and weight in the portfolio\n",
    "for counter,symbol in enumerate(sp100):\n",
    "    portfolio[symbol+' Weight'] = [Weight[counter] for Weight in stock_weights]"
   ]
  },
  {
   "cell_type": "code",
   "execution_count": null,
   "metadata": {},
   "outputs": [],
   "source": [
    "spdf = pd.DataFrame(portfolio)"
   ]
  },
  {
   "cell_type": "code",
   "execution_count": null,
   "metadata": {},
   "outputs": [],
   "source": [
    "# get better labels for desired arrangement of columns\n",
    "column_order = ['Returns', 'Volatility', 'Sharpe Ratio']+ [stock+' Weight' for stock in sp100]"
   ]
  },
  {
   "cell_type": "code",
   "execution_count": null,
   "metadata": {},
   "outputs": [],
   "source": [
    "# reorder dataframe columns\n",
    "spdf = spdf[column_order]"
   ]
  },
  {
   "cell_type": "code",
   "execution_count": null,
   "metadata": {},
   "outputs": [],
   "source": [
    "%matplotlib inline\n",
    "plt.style.use('seaborn-dark')\n",
    "spdf.plot.scatter(x='Volatility', y='Returns', c='Sharpe Ratio',\n",
    "                cmap='RdYlGn', edgecolors='black', figsize=(10, 10), grid=True)\n",
    "plt.xlabel('Volatility (Std. Deviation)')\n",
    "plt.ylabel('Expected Returns')\n",
    "plt.title('Efficient Frontier')\n",
    "plt.show()"
   ]
  },
  {
   "cell_type": "code",
   "execution_count": null,
   "metadata": {},
   "outputs": [],
   "source": [
    "x1=spdf[\"Volatility\"]\n",
    "y1=spdf['Returns']\n",
    "fig, ax = plt.subplots(figsize=(8,6))\n",
    "ax.scatter(x1,y1,\n",
    "           c = spdf['Sharpe Ratio'],\n",
    "          cmap='RdYlGn',\n",
    "          edgecolors = 'black',\n",
    "          )\n",
    "ax.grid(True)\n",
    "ax.set_xlabel('Volatility (Std. Deviation)')\n",
    "ax.set_ylabel('Expected Returns')\n",
    "ax.set_title('Efficient Frontier')"
   ]
  },
  {
   "cell_type": "code",
   "execution_count": null,
   "metadata": {},
   "outputs": [],
   "source": [
    "# find min Volatility & max sharpe values in the dataframe (df)\n",
    "min_volatility = spdf['Volatility'].min()\n",
    "max_sharpe = spdf['Sharpe Ratio'].max()\n",
    "\n",
    "# use the min, max values to locate and create the two special portfolios\n",
    "sharpe_portfolio = spdf.loc[spdf['Sharpe Ratio'] == max_sharpe]\n",
    "min_variance_port = spdf.loc[spdf['Volatility'] == min_volatility]\n",
    "\n",
    "# plot frontier, max sharpe & min Volatility values with a scatterplot\n",
    "plt.style.use('seaborn-dark')\n",
    "spdf.plot.scatter(x='Volatility', y='Returns', c='Sharpe Ratio',\n",
    "                cmap='RdYlGn', edgecolors='black', figsize=(10, 8), grid=True)\n",
    "plt.scatter(x=sharpe_portfolio['Volatility'], y=sharpe_portfolio['Returns'], c='red', marker='D', s=200)\n",
    "plt.scatter(x=min_variance_port['Volatility'], y=min_variance_port['Returns'], c='blue', marker='D', s=200 )\n",
    "plt.xlabel('Volatility (Std. Deviation)')\n",
    "plt.ylabel('Expected Returns')\n",
    "plt.title('Efficient Frontier')\n",
    "plt.show()"
   ]
  },
  {
   "cell_type": "code",
   "execution_count": null,
   "metadata": {},
   "outputs": [],
   "source": [
    "min_variance_port.T.as_format(\".2%\").to_csv(\"min_var_sp100_2019_to_recent.csv\")"
   ]
  },
  {
   "cell_type": "code",
   "execution_count": null,
   "metadata": {},
   "outputs": [],
   "source": [
    "sharpe_portfolio.T.as_format(\".2%\").to_csv(\"max_sharp_sp100_2019_to_recent.csv\")"
   ]
  },
  {
   "cell_type": "code",
   "execution_count": null,
   "metadata": {},
   "outputs": [],
   "source": []
  }
 ],
 "metadata": {
  "kernelspec": {
   "display_name": "Python 3",
   "language": "python",
   "name": "python3"
  },
  "language_info": {
   "codemirror_mode": {
    "name": "ipython",
    "version": 3
   },
   "file_extension": ".py",
   "mimetype": "text/x-python",
   "name": "python",
   "nbconvert_exporter": "python",
   "pygments_lexer": "ipython3",
   "version": "3.6.12"
  }
 },
 "nbformat": 4,
 "nbformat_minor": 4
}
