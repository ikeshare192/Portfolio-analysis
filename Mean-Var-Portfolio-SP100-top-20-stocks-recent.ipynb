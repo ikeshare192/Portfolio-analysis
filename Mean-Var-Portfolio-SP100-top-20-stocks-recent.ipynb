{
 "cells": [
  {
   "cell_type": "code",
   "execution_count": 2,
   "metadata": {},
   "outputs": [],
   "source": [
    "import ffn\n",
    "import pandas as pd\n",
    "import numpy as np\n",
    "import time\n",
    "import matplotlib.pyplot as plt\n",
    "%matplotlib inline"
   ]
  },
  {
   "cell_type": "code",
   "execution_count": null,
   "metadata": {},
   "outputs": [],
   "source": [
    "print(plt.style.available)"
   ]
  },
  {
   "cell_type": "code",
   "execution_count": 3,
   "metadata": {},
   "outputs": [],
   "source": [
    "#getting a list of S&P100 stocks from wikidpedia\n",
    "table=pd.read_html('https://en.wikipedia.org/wiki/S%26P_100')\n",
    "df=table[2]\n",
    "df.to_csv(\"S&P100-Info.csv\")"
   ]
  },
  {
   "cell_type": "code",
   "execution_count": null,
   "metadata": {},
   "outputs": [],
   "source": [
    "#creating a list of stocks from the symbol column in df\n",
    "stocks = df['Symbol']#.apply(lambda x: str(x))\n",
    "stocks"
   ]
  },
  {
   "cell_type": "code",
   "execution_count": 5,
   "metadata": {},
   "outputs": [],
   "source": [
    "#extract the tickers from stocks and append them to a list sp100\n",
    "sp100 = []\n",
    "for item in stocks:\n",
    "    sp100.append(item)"
   ]
  },
  {
   "cell_type": "code",
   "execution_count": 6,
   "metadata": {},
   "outputs": [],
   "source": [
    "#I know that Berkshire shares do not pull through yahoo finance so I am removing BRK.B\n",
    "sp100.remove('BRK.B')"
   ]
  },
  {
   "cell_type": "code",
   "execution_count": null,
   "metadata": {},
   "outputs": [],
   "source": [
    "#Iterate through the sp100 list to see if there are any tickers that have \"issues\"\n",
    "for i in sp100:\n",
    "    try:\n",
    "        data = ffn.get(i, start = \"2024-6-01\")\n",
    "    except:\n",
    "        print('There is a problem with {}'.format(i))"
   ]
  },
  {
   "cell_type": "code",
   "execution_count": null,
   "metadata": {},
   "outputs": [],
   "source": [
    "#using the ffn library to pull data\n",
    "data = ffn.get(sp100, start = '2024-06-01')"
   ]
  },
  {
   "cell_type": "code",
   "execution_count": null,
   "metadata": {},
   "outputs": [],
   "source": [
    "#take a look at the data pull\n",
    "data.tail()"
   ]
  },
  {
   "cell_type": "code",
   "execution_count": null,
   "metadata": {},
   "outputs": [],
   "source": [
    "#calculate the daily and annual returns of the initial data pull\n",
    "returns_daily = data.to_log_returns().dropna()\n",
    "returns_annual = returns_daily.mean()*250\n",
    "#return the length of the daily and annual returns dataframes for verification\n",
    "len(returns_daily), len(returns_annual)"
   ]
  },
  {
   "cell_type": "code",
   "execution_count": 11,
   "metadata": {},
   "outputs": [],
   "source": [
    "#sort by annual returns in decreasing from highest annual return to lowest.\n",
    "sort = pd.DataFrame(returns_annual.sort_values(ascending=False))"
   ]
  },
  {
   "cell_type": "code",
   "execution_count": null,
   "metadata": {},
   "outputs": [],
   "source": [
    "#create a list of top 20 tickers by annual return\n",
    "top_20=sort[0:20].index\n",
    "print(top_20)"
   ]
  },
  {
   "cell_type": "code",
   "execution_count": null,
   "metadata": {},
   "outputs": [],
   "source": [
    "#create a new dataframe that has only the top 20 stocks\n",
    "top_20_df = data[[column for column in top_20]]\n",
    "top_20_df.head()"
   ]
  },
  {
   "cell_type": "code",
   "execution_count": 14,
   "metadata": {},
   "outputs": [],
   "source": [
    "top_20_df.to_csv(\"SP100 top 20 Returns Starting Jun 2024.csv\")"
   ]
  },
  {
   "cell_type": "code",
   "execution_count": 15,
   "metadata": {},
   "outputs": [],
   "source": [
    "#calculate the returns per the top_20 df\n",
    "top_20_ret_daily = top_20_df.to_log_returns().dropna()\n",
    "top_20_ret_ann = top_20_ret_daily.mean()*250"
   ]
  },
  {
   "cell_type": "code",
   "execution_count": null,
   "metadata": {},
   "outputs": [],
   "source": [
    "#view the annualized returns of the top 20 S&P100 stocks\n",
    "top_20_ret_ann"
   ]
  },
  {
   "cell_type": "code",
   "execution_count": null,
   "metadata": {},
   "outputs": [],
   "source": [
    "top_20_ret_daily.plot_corr_heatmap(figsize=(12,12))"
   ]
  },
  {
   "cell_type": "markdown",
   "metadata": {},
   "source": [
    "### You can see that there is a lot of correlation with this basket of stocks"
   ]
  },
  {
   "cell_type": "code",
   "execution_count": 17,
   "metadata": {},
   "outputs": [],
   "source": [
    "#calculate the daily and annual covariances\n",
    "top_20_cov_daily = top_20_ret_daily.cov()\n",
    "top_20_cov_annual = top_20_cov_daily*250 #250 trading days in a year."
   ]
  },
  {
   "cell_type": "code",
   "execution_count": 18,
   "metadata": {},
   "outputs": [],
   "source": [
    "# create empty lists to store returns, volatility, and weights of possible portfolios\n",
    "port_returns = []\n",
    "port_volatility = []\n",
    "sharpe_ratio = []\n",
    "stock_weights = []"
   ]
  },
  {
   "cell_type": "code",
   "execution_count": 19,
   "metadata": {},
   "outputs": [],
   "source": [
    "####################################################\n",
    "# set the number of portfolio combinations with    #\n",
    "# the number of assets and portfolios as variables #\n",
    "####################################################\n",
    "num_assets = len(top_20)\n",
    "num_portfolios = 50000"
   ]
  },
  {
   "cell_type": "code",
   "execution_count": 20,
   "metadata": {},
   "outputs": [],
   "source": [
    "#set random seed\n",
    "np.random.seed(42)"
   ]
  },
  {
   "cell_type": "code",
   "execution_count": 21,
   "metadata": {},
   "outputs": [],
   "source": [
    "# populate the empty lists with each portfolios returns,risk and weights\n",
    "for single_portfolio in range(num_portfolios):\n",
    "    weights = np.random.random(num_assets)\n",
    "    weights /= np.sum(weights)\n",
    "    returns = np.dot(weights, top_20_ret_ann)\n",
    "    volatility = np.sqrt(np.dot(weights.T, np.dot(top_20_cov_annual, weights)))\n",
    "    sharpe = returns / volatility\n",
    "    sharpe_ratio.append(sharpe)\n",
    "    port_returns.append(returns)\n",
    "    port_volatility.append(volatility)\n",
    "    stock_weights.append(weights)"
   ]
  },
  {
   "cell_type": "code",
   "execution_count": 22,
   "metadata": {},
   "outputs": [],
   "source": [
    "# a dictionary for Returns and Risk values of each portfolio\n",
    "portfolio = {'Returns': port_returns,\n",
    "             'Volatility': port_volatility,\n",
    "             'Sharpe Ratio': sharpe_ratio}\n",
    "\n",
    "for counter,symbol in enumerate(top_20):\n",
    "    portfolio[symbol+' Weight'] = [Weight[counter] for Weight in stock_weights]"
   ]
  },
  {
   "cell_type": "code",
   "execution_count": 23,
   "metadata": {},
   "outputs": [],
   "source": [
    "#create the final dataframe with X number of portfolios randomized with different weights\n",
    "sp_top_20 = pd.DataFrame(portfolio)"
   ]
  },
  {
   "cell_type": "code",
   "execution_count": null,
   "metadata": {},
   "outputs": [],
   "source": [
    "sp_top_20.tail()"
   ]
  },
  {
   "cell_type": "code",
   "execution_count": 25,
   "metadata": {},
   "outputs": [],
   "source": [
    "# get better labels for desired arrangement of columns\n",
    "column_order = ['Returns', 'Volatility', 'Sharpe Ratio']+ [stock+' Weight' for stock in top_20]"
   ]
  },
  {
   "cell_type": "code",
   "execution_count": 26,
   "metadata": {},
   "outputs": [],
   "source": [
    "# reorder dataframe columns\n",
    "final = sp_top_20[column_order]"
   ]
  },
  {
   "cell_type": "code",
   "execution_count": null,
   "metadata": {},
   "outputs": [],
   "source": [
    "%matplotlib inline\n",
    "plt.style.use('seaborn-v0_8-darkgrid')\n",
    "final.plot.scatter(x='Volatility', y='Returns', c='Sharpe Ratio',\n",
    "                cmap='RdYlGn', edgecolors='black', figsize=(10, 10), grid=True)\n",
    "plt.xlabel('Volatility (Std. Deviation)')\n",
    "plt.ylabel('Expected Returns')\n",
    "plt.title('Efficient Frontier')\n",
    "plt.show()"
   ]
  },
  {
   "cell_type": "code",
   "execution_count": null,
   "metadata": {},
   "outputs": [],
   "source": [
    "#plot using fig, ax\n",
    "fig, ax = plt.subplots(figsize=(8,6))\n",
    "ax.scatter(final[\"Volatility\"],final['Returns'],\n",
    "           c = final['Sharpe Ratio'],\n",
    "          cmap='RdYlGn',\n",
    "          edgecolors = 'black',\n",
    "          )\n",
    "ax.grid(True)\n",
    "ax.set_xlabel('Volatility (Std. Deviation)')\n",
    "ax.set_ylabel('Expected Returns')\n",
    "ax.set_title('Efficient Frontier')"
   ]
  },
  {
   "cell_type": "code",
   "execution_count": null,
   "metadata": {},
   "outputs": [],
   "source": [
    "# find min Volatility & max sharpe values in the dataframe (df)\n",
    "min_volatility = final['Volatility'].min()\n",
    "max_sharpe = final['Sharpe Ratio'].max()\n",
    "\n",
    "# use the min, max values to locate and create the two special portfolios\n",
    "sharpe_portfolio = final.loc[final['Sharpe Ratio'] == max_sharpe]\n",
    "min_variance_port = final.loc[final['Volatility'] == min_volatility]\n",
    "\n",
    "# plot frontier, max sharpe & min Volatility values with a scatterplot\n",
    "plt.style.available\n",
    "plt.style.use('seaborn-v0_8-darkgrid')\n",
    "final.plot.scatter(x='Volatility', y='Returns', c='Sharpe Ratio',\n",
    "                cmap='RdYlGn', edgecolors='black', figsize=(10, 8), grid=True)\n",
    "plt.scatter(x=sharpe_portfolio['Volatility'], y=sharpe_portfolio['Returns'], c='red', marker='D', s=100)\n",
    "plt.scatter(x=min_variance_port['Volatility'], y=min_variance_port['Returns'], c='blue', marker='D', s=100 )\n",
    "plt.xlabel('Volatility (Std. Deviation)')\n",
    "plt.ylabel('Expected Returns')\n",
    "plt.title('Efficient Frontier')\n",
    "plt.show()"
   ]
  },
  {
   "cell_type": "code",
   "execution_count": 31,
   "metadata": {},
   "outputs": [],
   "source": [
    "min_variance_port.T.as_format(\".2%\").to_csv(\"min_var_top_20_sp100_june01-2024_to_recent.csv\")"
   ]
  },
  {
   "cell_type": "code",
   "execution_count": 32,
   "metadata": {},
   "outputs": [],
   "source": [
    "sharpe_portfolio.T.as_format(\".2%\").to_csv(\"max_sharp_top_20_sp100_jun01-2024_to_recent.csv\")"
   ]
  },
  {
   "cell_type": "code",
   "execution_count": null,
   "metadata": {},
   "outputs": [],
   "source": []
  }
 ],
 "metadata": {
  "kernelspec": {
   "display_name": "portfolio__management",
   "language": "python",
   "name": "python3"
  },
  "language_info": {
   "codemirror_mode": {
    "name": "ipython",
    "version": 3
   },
   "file_extension": ".py",
   "mimetype": "text/x-python",
   "name": "python",
   "nbconvert_exporter": "python",
   "pygments_lexer": "ipython3",
   "version": "3.11.10"
  }
 },
 "nbformat": 4,
 "nbformat_minor": 4
}
