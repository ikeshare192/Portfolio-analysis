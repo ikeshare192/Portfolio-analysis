{
 "cells": [
  {
   "cell_type": "code",
   "execution_count": 39,
   "metadata": {},
   "outputs": [],
   "source": [
    "import ffn\n",
    "import pandas as pd\n",
    "import numpy as np\n",
    "import time\n",
    "import matplotlib.pyplot as plt\n",
    "from get_tickers import get_tickers\n",
    "import warnings\n",
    "warnings.simplefilter(action='ignore', category=FutureWarning)\n",
    "%matplotlib inline"
   ]
  },
  {
   "cell_type": "code",
   "execution_count": 40,
   "metadata": {},
   "outputs": [],
   "source": [
    "start_date = '2024-01-01'\n",
    "end_date = '2024-01-31'\n",
    "file_name = f' Monthly_{start_date}_to_{end_date}.csv'"
   ]
  },
  {
   "cell_type": "code",
   "execution_count": 41,
   "metadata": {},
   "outputs": [],
   "source": [
    "#getting a list of S&P100 stocks\n",
    "stocks = pd.DataFrame(get_tickers())\n",
    "tickers = stocks[\"Symbol\"]\n"
   ]
  },
  {
   "cell_type": "code",
   "execution_count": 4,
   "metadata": {},
   "outputs": [],
   "source": [
    "#Iterate through the sp100 list to see if there are any tickers that have \"issues\"\n",
    "'''\n",
    "for x in tickers:\n",
    "    try:\n",
    "        data = ffn.get(x, start = \"2020-6-01\")\n",
    "    except Exception as e:\n",
    "        print(f'There is a problem with {x} : {e}')\n",
    "'''\n"
   ]
  },
  {
   "cell_type": "code",
   "execution_count": 42,
   "metadata": {},
   "outputs": [],
   "source": [
    "#using the ffn library to pull data\n",
    "data = ffn.get(tickers, start = start_date, end = end_date)"
   ]
  },
  {
   "cell_type": "code",
   "execution_count": 43,
   "metadata": {},
   "outputs": [
    {
     "data": {
      "text/html": [
       "<div>\n",
       "<style scoped>\n",
       "    .dataframe tbody tr th:only-of-type {\n",
       "        vertical-align: middle;\n",
       "    }\n",
       "\n",
       "    .dataframe tbody tr th {\n",
       "        vertical-align: top;\n",
       "    }\n",
       "\n",
       "    .dataframe thead th {\n",
       "        text-align: right;\n",
       "    }\n",
       "</style>\n",
       "<table border=\"1\" class=\"dataframe\">\n",
       "  <thead>\n",
       "    <tr style=\"text-align: right;\">\n",
       "      <th></th>\n",
       "      <th>aapl</th>\n",
       "      <th>abbv</th>\n",
       "      <th>abt</th>\n",
       "      <th>acn</th>\n",
       "      <th>adbe</th>\n",
       "      <th>aig</th>\n",
       "      <th>amd</th>\n",
       "      <th>amgn</th>\n",
       "      <th>amt</th>\n",
       "      <th>amzn</th>\n",
       "      <th>...</th>\n",
       "      <th>txn</th>\n",
       "      <th>unh</th>\n",
       "      <th>unp</th>\n",
       "      <th>ups</th>\n",
       "      <th>usb</th>\n",
       "      <th>v</th>\n",
       "      <th>vz</th>\n",
       "      <th>wfc</th>\n",
       "      <th>wmt</th>\n",
       "      <th>xom</th>\n",
       "    </tr>\n",
       "    <tr>\n",
       "      <th>Date</th>\n",
       "      <th></th>\n",
       "      <th></th>\n",
       "      <th></th>\n",
       "      <th></th>\n",
       "      <th></th>\n",
       "      <th></th>\n",
       "      <th></th>\n",
       "      <th></th>\n",
       "      <th></th>\n",
       "      <th></th>\n",
       "      <th></th>\n",
       "      <th></th>\n",
       "      <th></th>\n",
       "      <th></th>\n",
       "      <th></th>\n",
       "      <th></th>\n",
       "      <th></th>\n",
       "      <th></th>\n",
       "      <th></th>\n",
       "      <th></th>\n",
       "      <th></th>\n",
       "    </tr>\n",
       "  </thead>\n",
       "  <tbody>\n",
       "    <tr>\n",
       "      <th>2024-01-24</th>\n",
       "      <td>193.764725</td>\n",
       "      <td>159.942307</td>\n",
       "      <td>109.127357</td>\n",
       "      <td>364.389343</td>\n",
       "      <td>606.479980</td>\n",
       "      <td>68.085861</td>\n",
       "      <td>178.289993</td>\n",
       "      <td>298.911194</td>\n",
       "      <td>192.005859</td>\n",
       "      <td>156.869995</td>\n",
       "      <td>...</td>\n",
       "      <td>166.447403</td>\n",
       "      <td>507.256470</td>\n",
       "      <td>238.450424</td>\n",
       "      <td>151.213562</td>\n",
       "      <td>41.027092</td>\n",
       "      <td>270.101898</td>\n",
       "      <td>39.353748</td>\n",
       "      <td>48.493439</td>\n",
       "      <td>52.983467</td>\n",
       "      <td>97.105995</td>\n",
       "    </tr>\n",
       "    <tr>\n",
       "      <th>2024-01-25</th>\n",
       "      <td>193.435974</td>\n",
       "      <td>160.828613</td>\n",
       "      <td>110.782455</td>\n",
       "      <td>367.392212</td>\n",
       "      <td>622.580017</td>\n",
       "      <td>67.908653</td>\n",
       "      <td>180.330002</td>\n",
       "      <td>303.568542</td>\n",
       "      <td>195.372498</td>\n",
       "      <td>157.750000</td>\n",
       "      <td>...</td>\n",
       "      <td>163.853836</td>\n",
       "      <td>487.657288</td>\n",
       "      <td>237.702606</td>\n",
       "      <td>154.236298</td>\n",
       "      <td>41.345802</td>\n",
       "      <td>271.056427</td>\n",
       "      <td>40.316620</td>\n",
       "      <td>48.875584</td>\n",
       "      <td>53.755936</td>\n",
       "      <td>99.572647</td>\n",
       "    </tr>\n",
       "    <tr>\n",
       "      <th>2024-01-26</th>\n",
       "      <td>191.692596</td>\n",
       "      <td>160.117599</td>\n",
       "      <td>110.348976</td>\n",
       "      <td>366.532837</td>\n",
       "      <td>613.929993</td>\n",
       "      <td>68.450111</td>\n",
       "      <td>177.250000</td>\n",
       "      <td>305.045959</td>\n",
       "      <td>192.523041</td>\n",
       "      <td>159.119995</td>\n",
       "      <td>...</td>\n",
       "      <td>160.594772</td>\n",
       "      <td>497.343231</td>\n",
       "      <td>236.541489</td>\n",
       "      <td>153.840332</td>\n",
       "      <td>41.181618</td>\n",
       "      <td>266.413025</td>\n",
       "      <td>40.421486</td>\n",
       "      <td>49.306721</td>\n",
       "      <td>54.228004</td>\n",
       "      <td>100.420860</td>\n",
       "    </tr>\n",
       "    <tr>\n",
       "      <th>2024-01-29</th>\n",
       "      <td>191.005203</td>\n",
       "      <td>159.640381</td>\n",
       "      <td>111.767616</td>\n",
       "      <td>368.784973</td>\n",
       "      <td>630.229980</td>\n",
       "      <td>68.292595</td>\n",
       "      <td>177.830002</td>\n",
       "      <td>306.689758</td>\n",
       "      <td>194.299072</td>\n",
       "      <td>161.259995</td>\n",
       "      <td>...</td>\n",
       "      <td>162.503235</td>\n",
       "      <td>498.667664</td>\n",
       "      <td>241.244949</td>\n",
       "      <td>152.604202</td>\n",
       "      <td>41.481014</td>\n",
       "      <td>272.100433</td>\n",
       "      <td>40.087814</td>\n",
       "      <td>49.336113</td>\n",
       "      <td>54.482185</td>\n",
       "      <td>100.547607</td>\n",
       "    </tr>\n",
       "    <tr>\n",
       "      <th>2024-01-30</th>\n",
       "      <td>187.329147</td>\n",
       "      <td>160.624069</td>\n",
       "      <td>111.797180</td>\n",
       "      <td>366.760010</td>\n",
       "      <td>627.960022</td>\n",
       "      <td>69.286896</td>\n",
       "      <td>172.059998</td>\n",
       "      <td>307.834503</td>\n",
       "      <td>190.834839</td>\n",
       "      <td>159.000000</td>\n",
       "      <td>...</td>\n",
       "      <td>159.849762</td>\n",
       "      <td>497.748413</td>\n",
       "      <td>242.750458</td>\n",
       "      <td>140.088379</td>\n",
       "      <td>41.857677</td>\n",
       "      <td>275.570557</td>\n",
       "      <td>40.488220</td>\n",
       "      <td>50.159199</td>\n",
       "      <td>54.663750</td>\n",
       "      <td>102.224541</td>\n",
       "    </tr>\n",
       "  </tbody>\n",
       "</table>\n",
       "<p>5 rows × 100 columns</p>\n",
       "</div>"
      ],
      "text/plain": [
       "                  aapl        abbv         abt         acn        adbe  \\\n",
       "Date                                                                     \n",
       "2024-01-24  193.764725  159.942307  109.127357  364.389343  606.479980   \n",
       "2024-01-25  193.435974  160.828613  110.782455  367.392212  622.580017   \n",
       "2024-01-26  191.692596  160.117599  110.348976  366.532837  613.929993   \n",
       "2024-01-29  191.005203  159.640381  111.767616  368.784973  630.229980   \n",
       "2024-01-30  187.329147  160.624069  111.797180  366.760010  627.960022   \n",
       "\n",
       "                  aig         amd        amgn         amt        amzn  ...  \\\n",
       "Date                                                                   ...   \n",
       "2024-01-24  68.085861  178.289993  298.911194  192.005859  156.869995  ...   \n",
       "2024-01-25  67.908653  180.330002  303.568542  195.372498  157.750000  ...   \n",
       "2024-01-26  68.450111  177.250000  305.045959  192.523041  159.119995  ...   \n",
       "2024-01-29  68.292595  177.830002  306.689758  194.299072  161.259995  ...   \n",
       "2024-01-30  69.286896  172.059998  307.834503  190.834839  159.000000  ...   \n",
       "\n",
       "                   txn         unh         unp         ups        usb  \\\n",
       "Date                                                                    \n",
       "2024-01-24  166.447403  507.256470  238.450424  151.213562  41.027092   \n",
       "2024-01-25  163.853836  487.657288  237.702606  154.236298  41.345802   \n",
       "2024-01-26  160.594772  497.343231  236.541489  153.840332  41.181618   \n",
       "2024-01-29  162.503235  498.667664  241.244949  152.604202  41.481014   \n",
       "2024-01-30  159.849762  497.748413  242.750458  140.088379  41.857677   \n",
       "\n",
       "                     v         vz        wfc        wmt         xom  \n",
       "Date                                                                 \n",
       "2024-01-24  270.101898  39.353748  48.493439  52.983467   97.105995  \n",
       "2024-01-25  271.056427  40.316620  48.875584  53.755936   99.572647  \n",
       "2024-01-26  266.413025  40.421486  49.306721  54.228004  100.420860  \n",
       "2024-01-29  272.100433  40.087814  49.336113  54.482185  100.547607  \n",
       "2024-01-30  275.570557  40.488220  50.159199  54.663750  102.224541  \n",
       "\n",
       "[5 rows x 100 columns]"
      ]
     },
     "execution_count": 43,
     "metadata": {},
     "output_type": "execute_result"
    }
   ],
   "source": [
    "#take a look at the data pull\n",
    "data.tail()\n",
    "#len(data)"
   ]
  },
  {
   "cell_type": "code",
   "execution_count": 44,
   "metadata": {},
   "outputs": [
    {
     "data": {
      "text/plain": [
       "(19, 100)"
      ]
     },
     "execution_count": 44,
     "metadata": {},
     "output_type": "execute_result"
    }
   ],
   "source": [
    "#calculate the daily and annual returns of the initial data pull\n",
    "returns_daily = data.to_log_returns().dropna()\n",
    "returns_annual = returns_daily.mean()*250\n",
    "#return the length of the daily and annual returns dataframes for verification\n",
    "len(returns_daily), len(returns_annual)"
   ]
  },
  {
   "cell_type": "code",
   "execution_count": null,
   "metadata": {},
   "outputs": [],
   "source": [
    "returns_daily = data.to_log_returns().dropna()  # Daily log returns\n",
    "\n",
    "# Calculate the monthly return for the given month\n",
    "monthly_return = (returns_daily + 1).prod() - 1  # Compound all daily returns in the month\n",
    "\n",
    "# Return the value of the monthly return\n",
    "#monthly_return_value = monthly_return.iloc[0]  # Assuming you only need the scalar value\n",
    "print(\"Monthly Returns:\", monthly_return)"
   ]
  },
  {
   "cell_type": "code",
   "execution_count": 46,
   "metadata": {},
   "outputs": [
    {
     "name": "stdout",
     "output_type": "stream",
     "text": [
      "             0\n",
      "nvda  3.484816\n",
      "amd   2.847309\n",
      "nflx  2.414171\n",
      "ibm   1.990067\n",
      "meta  1.899184\n",
      "...        ...\n",
      "intc -1.416944\n",
      "amt  -1.478113\n",
      "mmm  -1.825524\n",
      "ba   -2.999490\n",
      "tsla -3.417937\n",
      "\n",
      "[100 rows x 1 columns]\n"
     ]
    }
   ],
   "source": [
    "#sort by annual returns in decreasing from highest annual return to lowest.\n",
    "sort = pd.DataFrame(returns_annual.sort_values(ascending=False))\n",
    "print(sort)"
   ]
  },
  {
   "cell_type": "code",
   "execution_count": 47,
   "metadata": {},
   "outputs": [
    {
     "name": "stdout",
     "output_type": "stream",
     "text": [
      "Index(['nvda', 'amd', 'nflx', 'ibm', 'meta', 'crm', 'avgo', 'vz', 'msft',\n",
      "       'orcl', 'googl', 'lly', 'axp', 'adbe', 'bk', 'cost', 'c', 'intu', 'mrk',\n",
      "       'acn'],\n",
      "      dtype='object')\n"
     ]
    }
   ],
   "source": [
    "#create a list of top 20 tickers by annual return\n",
    "top_20=sort[0:20].index\n",
    "print(top_20)"
   ]
  },
  {
   "cell_type": "code",
   "execution_count": null,
   "metadata": {},
   "outputs": [],
   "source": [
    "#create a new dataframe that has only the top 20 stocks\n",
    "top_20_df = data[[column for column in top_20]]\n",
    "top_20_df.head()"
   ]
  },
  {
   "cell_type": "code",
   "execution_count": 19,
   "metadata": {},
   "outputs": [],
   "source": [
    "top_20_df.to_csv('top_20 ' +file_name)\n",
    "\n"
   ]
  },
  {
   "cell_type": "code",
   "execution_count": null,
   "metadata": {},
   "outputs": [],
   "source": [
    "'''\n",
    "def get_open_prices(csv, start, end):\n",
    "\n",
    "    data = pd.read_csv(csv)\n",
    "    tickers = data.columns[1:]\n",
    "    prices_open = ffn.get(tickers, start = open_on_date, end = close_date )\n",
    "    transposed = prices_open.T\n",
    "    transposed.columns = ['Price']\n",
    "    transposed.index.name = 'Stock'\n",
    "    print(transposed)\n",
    "    return transposed\n",
    "\n",
    "get_open_prices(top_20_csv, start_date, end_date)\n",
    "'''"
   ]
  },
  {
   "cell_type": "code",
   "execution_count": 21,
   "metadata": {},
   "outputs": [],
   "source": [
    "#calculate the returns per the top_20 df\n",
    "top_20_ret_daily = top_20_df.to_log_returns().dropna()\n",
    "top_20_ret_ann = top_20_ret_daily.mean()*30"
   ]
  },
  {
   "cell_type": "code",
   "execution_count": null,
   "metadata": {},
   "outputs": [],
   "source": [
    "#view the annualized returns of the top 20 S&P100 stocks\n",
    "top_20_ret_ann"
   ]
  },
  {
   "cell_type": "code",
   "execution_count": 23,
   "metadata": {},
   "outputs": [],
   "source": [
    "#calculate the daily and annual covariances\n",
    "top_20_cov_daily = top_20_ret_daily.cov()\n",
    "top_20_cov_annual = top_20_cov_daily*250 #250 trading days in a year."
   ]
  },
  {
   "cell_type": "code",
   "execution_count": 24,
   "metadata": {},
   "outputs": [],
   "source": [
    "# create empty lists to store returns, volatility, and weights of possible portfolios\n",
    "port_returns = []\n",
    "port_volatility = []\n",
    "sharpe_ratio = []\n",
    "stock_weights = []"
   ]
  },
  {
   "cell_type": "code",
   "execution_count": 25,
   "metadata": {},
   "outputs": [],
   "source": [
    "####################################################\n",
    "# set the number of portfolio combinations with    #\n",
    "# the number of assets and portfolios as variables #\n",
    "####################################################\n",
    "num_assets = len(top_20)\n",
    "num_portfolios = 50000"
   ]
  },
  {
   "cell_type": "code",
   "execution_count": 26,
   "metadata": {},
   "outputs": [],
   "source": [
    "#set random seed\n",
    "np.random.seed(42)"
   ]
  },
  {
   "cell_type": "code",
   "execution_count": 27,
   "metadata": {},
   "outputs": [],
   "source": [
    "# populate the empty lists with each portfolios returns,risk and weights\n",
    "for single_portfolio in range(num_portfolios):\n",
    "    weights = np.random.random(num_assets)\n",
    "    weights /= np.sum(weights)\n",
    "    returns = np.dot(weights, top_20_ret_ann)\n",
    "    volatility = np.sqrt(np.dot(weights.T, np.dot(top_20_cov_annual, weights)))\n",
    "    sharpe = returns / volatility\n",
    "    sharpe_ratio.append(sharpe)\n",
    "    port_returns.append(returns)\n",
    "    port_volatility.append(volatility)\n",
    "    stock_weights.append(weights)"
   ]
  },
  {
   "cell_type": "code",
   "execution_count": 28,
   "metadata": {},
   "outputs": [],
   "source": [
    "# a dictionary for Returns and Risk values of each portfolio\n",
    "portfolio = {'Returns': port_returns,\n",
    "             'Volatility': port_volatility,\n",
    "             'Sharpe Ratio': sharpe_ratio}\n",
    "\n",
    "for counter,symbol in enumerate(top_20):\n",
    "    portfolio[symbol+' Weight'] = [Weight[counter] for Weight in stock_weights]"
   ]
  },
  {
   "cell_type": "code",
   "execution_count": 29,
   "metadata": {},
   "outputs": [],
   "source": [
    "#create the final dataframe with X number of portfolios randomized with different weights\n",
    "sp_top_20 = pd.DataFrame(portfolio)"
   ]
  },
  {
   "cell_type": "code",
   "execution_count": null,
   "metadata": {},
   "outputs": [],
   "source": [
    "sp_top_20.tail()"
   ]
  },
  {
   "cell_type": "code",
   "execution_count": 31,
   "metadata": {},
   "outputs": [],
   "source": [
    "# get better labels for desired arrangement of columns\n",
    "column_order = ['Returns', 'Volatility', 'Sharpe Ratio']+ [stock+' Weight' for stock in top_20]"
   ]
  },
  {
   "cell_type": "code",
   "execution_count": 32,
   "metadata": {},
   "outputs": [],
   "source": [
    "# reorder dataframe columns\n",
    "final = sp_top_20[column_order]"
   ]
  },
  {
   "cell_type": "code",
   "execution_count": null,
   "metadata": {},
   "outputs": [],
   "source": [
    "# find min Volatility & max sharpe values in the dataframe (df)\n",
    "min_volatility = final['Volatility'].min()\n",
    "max_sharpe = final['Sharpe Ratio'].max()\n",
    "\n",
    "# use the min, max values to locate and create the two special portfolios\n",
    "sharpe_portfolio = final.loc[final['Sharpe Ratio'] == max_sharpe]\n",
    "min_variance_port = final.loc[final['Volatility'] == min_volatility]\n",
    "\n",
    "# plot frontier, max sharpe & min Volatility values with a scatterplot\n",
    "plt.style.available\n",
    "plt.style.use('seaborn-v0_8-darkgrid')\n",
    "final.plot.scatter(x='Volatility', y='Returns', c='Sharpe Ratio',\n",
    "                cmap='RdYlGn', edgecolors='black', figsize=(10, 8), grid=True)\n",
    "plt.scatter(x=sharpe_portfolio['Volatility'], y=sharpe_portfolio['Returns'], c='red', marker='D', s=100)\n",
    "plt.scatter(x=min_variance_port['Volatility'], y=min_variance_port['Returns'], c='blue', marker='D', s=100 )\n",
    "plt.xlabel('Volatility (Std. Deviation)')\n",
    "plt.ylabel('Expected Returns')\n",
    "plt.title('Efficient Frontier')\n",
    "plt.show()"
   ]
  },
  {
   "cell_type": "code",
   "execution_count": 34,
   "metadata": {},
   "outputs": [],
   "source": [
    "min_variance_port.T.as_format(\".2%\").to_csv('min_var '+file_name)"
   ]
  },
  {
   "cell_type": "code",
   "execution_count": 35,
   "metadata": {},
   "outputs": [],
   "source": [
    "sharpe_portfolio.T.as_format(\".2%\").to_csv('max_sharpe ' + file_name)"
   ]
  },
  {
   "cell_type": "code",
   "execution_count": null,
   "metadata": {},
   "outputs": [],
   "source": []
  }
 ],
 "metadata": {
  "kernelspec": {
   "display_name": "portfolio__management",
   "language": "python",
   "name": "python3"
  },
  "language_info": {
   "codemirror_mode": {
    "name": "ipython",
    "version": 3
   },
   "file_extension": ".py",
   "mimetype": "text/x-python",
   "name": "python",
   "nbconvert_exporter": "python",
   "pygments_lexer": "ipython3",
   "version": "3.11.10"
  }
 },
 "nbformat": 4,
 "nbformat_minor": 4
}
