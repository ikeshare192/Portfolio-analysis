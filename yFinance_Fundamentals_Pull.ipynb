{
 "cells": [
  {
   "cell_type": "code",
   "execution_count": 17,
   "metadata": {},
   "outputs": [],
   "source": [
    "import yfinance as yf\n",
    "import pandas as pd\n",
    "import numpy as np"
   ]
  },
  {
   "cell_type": "code",
   "execution_count": 2,
   "metadata": {},
   "outputs": [],
   "source": [
    "#getting a list of S&P500 stocks\n",
    "table=pd.read_html('https://en.wikipedia.org/wiki/List_of_S%26P_500_companies')\n",
    "df = table[0]\n",
    "df.to_csv('S&P500-Info.csv')"
   ]
  },
  {
   "cell_type": "code",
   "execution_count": 3,
   "metadata": {},
   "outputs": [],
   "source": [
    "#generating a list of strings in dataframe column for symbol names\n",
    "stocks=df['Symbol'].apply(lambda x: str(x))"
   ]
  },
  {
   "cell_type": "code",
   "execution_count": 5,
   "metadata": {},
   "outputs": [],
   "source": [
    "#appending tickers to sp500 list\n",
    "sp500 = []\n",
    "for item in stocks:\n",
    "    sp500.append(item)"
   ]
  },
  {
   "cell_type": "code",
   "execution_count": 6,
   "metadata": {},
   "outputs": [],
   "source": [
    "IPGP = yf.Ticker(\"IPGP\")"
   ]
  },
  {
   "cell_type": "code",
   "execution_count": 7,
   "metadata": {},
   "outputs": [],
   "source": [
    "dataframe = pd.Series(IPGP.info, name = \"IPGP\").to_frame().T"
   ]
  },
  {
   "cell_type": "code",
   "execution_count": 8,
   "metadata": {},
   "outputs": [
    {
     "name": "stdout",
     "output_type": "stream",
     "text": [
      "Error for the following symbol : BRK.B !\n",
      "Error for the following symbol : BF.B !\n",
      "Wall time: 31min 10s\n"
     ]
    }
   ],
   "source": [
    "#pull data from yFinance and append to dataframe\n",
    "%%time\n",
    "\n",
    "for item in sp500:\n",
    "    try:\n",
    "        dataframe.loc[\"{}\".format(item)] = pd.Series(yf.Ticker(item).info)  \n",
    "    except:\n",
    "        print(\"Error for the following symbol : {} !\".format(item))"
   ]
  },
  {
   "cell_type": "code",
   "execution_count": 9,
   "metadata": {},
   "outputs": [
    {
     "data": {
      "text/plain": [
       "['zip',\n",
       " 'sector',\n",
       " 'fullTimeEmployees',\n",
       " 'longBusinessSummary',\n",
       " 'city',\n",
       " 'phone',\n",
       " 'state',\n",
       " 'country',\n",
       " 'companyOfficers',\n",
       " 'website',\n",
       " 'maxAge',\n",
       " 'address1',\n",
       " 'fax',\n",
       " 'industry',\n",
       " 'previousClose',\n",
       " 'regularMarketOpen',\n",
       " 'twoHundredDayAverage',\n",
       " 'trailingAnnualDividendYield',\n",
       " 'payoutRatio',\n",
       " 'volume24Hr',\n",
       " 'regularMarketDayHigh',\n",
       " 'navPrice',\n",
       " 'averageDailyVolume10Day',\n",
       " 'totalAssets',\n",
       " 'regularMarketPreviousClose',\n",
       " 'fiftyDayAverage',\n",
       " 'trailingAnnualDividendRate',\n",
       " 'open',\n",
       " 'averageVolume10days',\n",
       " 'expireDate',\n",
       " 'yield',\n",
       " 'algorithm',\n",
       " 'dividendRate',\n",
       " 'exDividendDate',\n",
       " 'beta',\n",
       " 'circulatingSupply',\n",
       " 'startDate',\n",
       " 'regularMarketDayLow',\n",
       " 'priceHint',\n",
       " 'currency',\n",
       " 'trailingPE',\n",
       " 'regularMarketVolume',\n",
       " 'lastMarket',\n",
       " 'maxSupply',\n",
       " 'openInterest',\n",
       " 'marketCap',\n",
       " 'volumeAllCurrencies',\n",
       " 'strikePrice',\n",
       " 'averageVolume',\n",
       " 'priceToSalesTrailing12Months',\n",
       " 'dayLow',\n",
       " 'ask',\n",
       " 'ytdReturn',\n",
       " 'askSize',\n",
       " 'volume',\n",
       " 'fiftyTwoWeekHigh',\n",
       " 'forwardPE',\n",
       " 'fromCurrency',\n",
       " 'fiveYearAvgDividendYield',\n",
       " 'fiftyTwoWeekLow',\n",
       " 'bid',\n",
       " 'tradeable',\n",
       " 'dividendYield',\n",
       " 'bidSize',\n",
       " 'dayHigh',\n",
       " 'exchange',\n",
       " 'shortName',\n",
       " 'longName',\n",
       " 'exchangeTimezoneName',\n",
       " 'exchangeTimezoneShortName',\n",
       " 'isEsgPopulated',\n",
       " 'gmtOffSetMilliseconds',\n",
       " 'underlyingSymbol',\n",
       " 'quoteType',\n",
       " 'symbol',\n",
       " 'underlyingExchangeSymbol',\n",
       " 'headSymbol',\n",
       " 'messageBoardId',\n",
       " 'uuid',\n",
       " 'market',\n",
       " 'annualHoldingsTurnover',\n",
       " 'enterpriseToRevenue',\n",
       " 'beta3Year',\n",
       " 'profitMargins',\n",
       " 'enterpriseToEbitda',\n",
       " '52WeekChange',\n",
       " 'morningStarRiskRating',\n",
       " 'forwardEps',\n",
       " 'revenueQuarterlyGrowth',\n",
       " 'sharesOutstanding',\n",
       " 'fundInceptionDate',\n",
       " 'annualReportExpenseRatio',\n",
       " 'bookValue',\n",
       " 'sharesShort',\n",
       " 'sharesPercentSharesOut',\n",
       " 'fundFamily',\n",
       " 'lastFiscalYearEnd',\n",
       " 'heldPercentInstitutions',\n",
       " 'netIncomeToCommon',\n",
       " 'trailingEps',\n",
       " 'lastDividendValue',\n",
       " 'SandP52WeekChange',\n",
       " 'priceToBook',\n",
       " 'heldPercentInsiders',\n",
       " 'nextFiscalYearEnd',\n",
       " 'mostRecentQuarter',\n",
       " 'shortRatio',\n",
       " 'sharesShortPreviousMonthDate',\n",
       " 'floatShares',\n",
       " 'enterpriseValue',\n",
       " 'threeYearAverageReturn',\n",
       " 'lastSplitDate',\n",
       " 'lastSplitFactor',\n",
       " 'legalType',\n",
       " 'morningStarOverallRating',\n",
       " 'earningsQuarterlyGrowth',\n",
       " 'dateShortInterest',\n",
       " 'pegRatio',\n",
       " 'lastCapGain',\n",
       " 'shortPercentOfFloat',\n",
       " 'sharesShortPriorMonth',\n",
       " 'category',\n",
       " 'fiveYearAverageReturn',\n",
       " 'regularMarketPrice',\n",
       " 'logo_url']"
      ]
     },
     "execution_count": 9,
     "metadata": {},
     "output_type": "execute_result"
    }
   ],
   "source": [
    "list(dataframe.columns)\n"
   ]
  },
  {
   "cell_type": "code",
   "execution_count": 131,
   "metadata": {},
   "outputs": [],
   "source": [
    "#creating a df with the following fundamentals\n",
    "new = dataframe[[\n",
    " 'beta',\n",
    " 'trailingPE',\n",
    " 'trailingEps',                \n",
    " 'marketCap',\n",
    " 'priceToSalesTrailing12Months',\n",
    " 'profitMargins',\n",
    " 'enterpriseToEbitda',\n",
    " 'enterpriseToRevenue',\n",
    " 'forwardEps',\n",
    " 'bookValue',\n",
    " 'trailingEps',\n",
    " 'priceToBook',\n",
    " 'enterpriseValue',\n",
    " 'earningsQuarterlyGrowth',\n",
    " 'sharesOutstanding'\n",
    "]]"
   ]
  },
  {
   "cell_type": "code",
   "execution_count": 113,
   "metadata": {},
   "outputs": [],
   "source": [
    "new.to_csv('new')"
   ]
  },
  {
   "cell_type": "code",
   "execution_count": 132,
   "metadata": {},
   "outputs": [],
   "source": [
    "#Create Dataset and Target Variable\n",
    "y=new['marketCap']\n",
    "X=new.drop(['marketCap'], axis=1).fillna(0)"
   ]
  },
  {
   "cell_type": "code",
   "execution_count": 112,
   "metadata": {},
   "outputs": [],
   "source": [
    "X.to_csv('X')"
   ]
  },
  {
   "cell_type": "code",
   "execution_count": 133,
   "metadata": {},
   "outputs": [],
   "source": [
    "from sklearn.preprocessing import StandardScaler\n",
    "sc = StandardScaler()\n",
    "X_trans = sc.fit_transform(X)"
   ]
  },
  {
   "cell_type": "code",
   "execution_count": 134,
   "metadata": {},
   "outputs": [],
   "source": [
    "from sklearn.model_selection import train_test_split\n",
    "X_train, X_test, y_train, y_test = train_test_split(\n",
    "    X_trans, y, test_size=0.2, random_state=42)"
   ]
  },
  {
   "cell_type": "code",
   "execution_count": 135,
   "metadata": {},
   "outputs": [
    {
     "data": {
      "text/plain": [
       "(402, 402)"
      ]
     },
     "execution_count": 135,
     "metadata": {},
     "output_type": "execute_result"
    }
   ],
   "source": [
    "len(X_train), len(y_train)"
   ]
  },
  {
   "cell_type": "code",
   "execution_count": 136,
   "metadata": {},
   "outputs": [],
   "source": [
    "from sklearn.ensemble import GradientBoostingRegressor as GBR"
   ]
  },
  {
   "cell_type": "code",
   "execution_count": 137,
   "metadata": {},
   "outputs": [
    {
     "name": "stdout",
     "output_type": "stream",
     "text": [
      "Wall time: 248 ms\n"
     ]
    },
    {
     "data": {
      "text/plain": [
       "GradientBoostingRegressor(alpha=0.9, ccp_alpha=0.0, criterion='friedman_mse',\n",
       "                          init=None, learning_rate=0.1, loss='huber',\n",
       "                          max_depth=3, max_features=None, max_leaf_nodes=None,\n",
       "                          min_impurity_decrease=0.0, min_impurity_split=None,\n",
       "                          min_samples_leaf=1, min_samples_split=2,\n",
       "                          min_weight_fraction_leaf=0.0, n_estimators=100,\n",
       "                          n_iter_no_change=None, presort='deprecated',\n",
       "                          random_state=42, subsample=1.0, tol=0.0001,\n",
       "                          validation_fraction=0.1, verbose=0, warm_start=False)"
      ]
     },
     "execution_count": 137,
     "metadata": {},
     "output_type": "execute_result"
    }
   ],
   "source": [
    "%%time\n",
    "estimator = GBR(loss='huber', n_estimators=100, random_state=42)\n",
    "estimator.fit(X_train, y_train)"
   ]
  },
  {
   "cell_type": "code",
   "execution_count": 138,
   "metadata": {},
   "outputs": [
    {
     "data": {
      "text/plain": [
       "0.9585307573061687"
      ]
     },
     "execution_count": 138,
     "metadata": {},
     "output_type": "execute_result"
    }
   ],
   "source": [
    "estimator.score(X_test, y_test)"
   ]
  },
  {
   "cell_type": "code",
   "execution_count": null,
   "metadata": {},
   "outputs": [],
   "source": []
  }
 ],
 "metadata": {
  "kernelspec": {
   "display_name": "Python 3",
   "language": "python",
   "name": "python3"
  },
  "language_info": {
   "codemirror_mode": {
    "name": "ipython",
    "version": 3
   },
   "file_extension": ".py",
   "mimetype": "text/x-python",
   "name": "python",
   "nbconvert_exporter": "python",
   "pygments_lexer": "ipython3",
   "version": "3.6.12"
  }
 },
 "nbformat": 4,
 "nbformat_minor": 4
}
